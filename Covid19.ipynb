{
  "nbformat": 4,
  "nbformat_minor": 0,
  "metadata": {
    "colab": {
      "name": "Covid19.ipynb",
      "provenance": [],
      "collapsed_sections": [],
      "include_colab_link": true
    },
    "kernelspec": {
      "name": "python3",
      "display_name": "Python 3"
    }
  },
  "cells": [
    {
      "cell_type": "markdown",
      "metadata": {
        "id": "view-in-github",
        "colab_type": "text"
      },
      "source": [
        "<a href=\"https://colab.research.google.com/github/abhishek-geek/notebooks/blob/main/Covid19.ipynb\" target=\"_parent\"><img src=\"https://colab.research.google.com/assets/colab-badge.svg\" alt=\"Open In Colab\"/></a>"
      ]
    },
    {
      "cell_type": "markdown",
      "metadata": {
        "id": "FTbVzAJWZjmr"
      },
      "source": [
        "#<em><strong>COVID-19 Forecasting using Multivariate Linear Regression<strong></em>\n"
      ]
    },
    {
      "cell_type": "code",
      "metadata": {
        "id": "iRBEhTRpiF8f"
      },
      "source": [
        "import numpy as np\n",
        "import pandas as pd"
      ],
      "execution_count": null,
      "outputs": []
    },
    {
      "cell_type": "code",
      "metadata": {
        "id": "kopJH3-auPZy"
      },
      "source": [
        "from google.colab import drive\n",
        "drive.mount(\"/content/gdrive\")"
      ],
      "execution_count": null,
      "outputs": []
    },
    {
      "cell_type": "code",
      "metadata": {
        "id": "KX_HVonwurh_"
      },
      "source": [
        "import pandas as pd\n",
        "active_cases = pd.read_csv('/content/gdrive/My Drive/data/Active Cases.csv')\n",
        "active_cases.shape"
      ],
      "execution_count": null,
      "outputs": []
    },
    {
      "cell_type": "code",
      "metadata": {
        "id": "IXHs7jj1vGgz"
      },
      "source": [
        "active_cases=active_cases.dropna()\n",
        "active_cases=active_cases[active_cases[\"State\"] == active_cases[\"District\"]]\n",
        "active_cases=active_cases.drop(columns = [\"District\"])"
      ],
      "execution_count": null,
      "outputs": []
    },
    {
      "cell_type": "code",
      "metadata": {
        "id": "8_B6-q89vNy1"
      },
      "source": [
        "active_cases=active_cases.reset_index(drop = True)\n",
        "active_cases.head()"
      ],
      "execution_count": null,
      "outputs": []
    },
    {
      "cell_type": "code",
      "metadata": {
        "id": "HJi7YtoxvhH-"
      },
      "source": [
        "active_cases"
      ],
      "execution_count": null,
      "outputs": []
    }
  ]
}